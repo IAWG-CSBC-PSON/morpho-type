{
 "cells": [
  {
   "cell_type": "code",
   "execution_count": 1,
   "metadata": {},
   "outputs": [],
   "source": [
    "import pandas as pd\n",
    "pd.options.display.max_columns = 50\n",
    "import numpy as np\n",
    "import sys\n",
    "import os\n",
    "\n",
    "import matplotlib.pyplot as plt\n",
    "import seaborn as sns\n",
    "\n",
    "sys.path.append('/cellar/users/y8qin/Data/my_utils/')\n",
    "from file_utils import *\n",
    "\n",
    "%load_ext autoreload\n",
    "%autoreload 2"
   ]
  },
  {
   "cell_type": "code",
   "execution_count": 2,
   "metadata": {},
   "outputs": [],
   "source": [
    "lung1 = pd.read_csv('../data/Lung1.csv')\n",
    "lung2 = pd.read_csv('../data/Lung2.csv')\n",
    "lung3 = pd.read_csv('../data/Lung3.csv')"
   ]
  },
  {
   "cell_type": "code",
   "execution_count": 3,
   "metadata": {},
   "outputs": [
    {
     "name": "stdout",
     "output_type": "stream",
     "text": [
      "(104655, 21)\n",
      "(61834, 21)\n",
      "(110563, 21)\n"
     ]
    }
   ],
   "source": [
    "print(lung1.shape)\n",
    "print(lung2.shape)\n",
    "print(lung3.shape)"
   ]
  },
  {
   "cell_type": "code",
   "execution_count": 4,
   "metadata": {},
   "outputs": [],
   "source": [
    "# Remove segmentation error\n",
    "lung1 = lung1[lung1['CellID'] <= 87500]"
   ]
  },
  {
   "cell_type": "code",
   "execution_count": 5,
   "metadata": {
    "scrolled": true
   },
   "outputs": [
    {
     "data": {
      "text/html": [
       "<div>\n",
       "<style scoped>\n",
       "    .dataframe tbody tr th:only-of-type {\n",
       "        vertical-align: middle;\n",
       "    }\n",
       "\n",
       "    .dataframe tbody tr th {\n",
       "        vertical-align: top;\n",
       "    }\n",
       "\n",
       "    .dataframe thead th {\n",
       "        text-align: right;\n",
       "    }\n",
       "</style>\n",
       "<table border=\"1\" class=\"dataframe\">\n",
       "  <thead>\n",
       "    <tr style=\"text-align: right;\">\n",
       "      <th></th>\n",
       "      <th>CellID</th>\n",
       "      <th>Label</th>\n",
       "      <th>Immune</th>\n",
       "      <th>Stroma</th>\n",
       "      <th>Tumor</th>\n",
       "      <th>Area</th>\n",
       "      <th>Eccentricity</th>\n",
       "      <th>Solidity</th>\n",
       "      <th>Extent</th>\n",
       "      <th>EulerNumber</th>\n",
       "      <th>Perimeter</th>\n",
       "      <th>MajorAxisLength</th>\n",
       "      <th>MinorAxisLength</th>\n",
       "      <th>Orientation</th>\n",
       "      <th>Neighbor_1</th>\n",
       "      <th>Neighbor_2</th>\n",
       "      <th>Neighbor_3</th>\n",
       "      <th>Neighbor_4</th>\n",
       "      <th>Neighbor_5</th>\n",
       "      <th>X_position</th>\n",
       "      <th>Y_position</th>\n",
       "    </tr>\n",
       "  </thead>\n",
       "  <tbody>\n",
       "    <tr>\n",
       "      <th>0</th>\n",
       "      <td>1</td>\n",
       "      <td>Stroma</td>\n",
       "      <td>0.084226</td>\n",
       "      <td>0.913542</td>\n",
       "      <td>0.002232</td>\n",
       "      <td>236</td>\n",
       "      <td>0.957049</td>\n",
       "      <td>0.810997</td>\n",
       "      <td>0.428312</td>\n",
       "      <td>1</td>\n",
       "      <td>78.70</td>\n",
       "      <td>34.044535</td>\n",
       "      <td>9.870373</td>\n",
       "      <td>-29.378275</td>\n",
       "      <td>2</td>\n",
       "      <td>570</td>\n",
       "      <td>598</td>\n",
       "      <td>643</td>\n",
       "      <td>654</td>\n",
       "      <td>13.957627</td>\n",
       "      <td>467.186441</td>\n",
       "    </tr>\n",
       "    <tr>\n",
       "      <th>1</th>\n",
       "      <td>2</td>\n",
       "      <td>Stroma</td>\n",
       "      <td>0.279038</td>\n",
       "      <td>0.719192</td>\n",
       "      <td>0.001770</td>\n",
       "      <td>201</td>\n",
       "      <td>0.638133</td>\n",
       "      <td>0.922018</td>\n",
       "      <td>0.744444</td>\n",
       "      <td>1</td>\n",
       "      <td>53.45</td>\n",
       "      <td>18.572493</td>\n",
       "      <td>14.299456</td>\n",
       "      <td>-46.545586</td>\n",
       "      <td>1</td>\n",
       "      <td>3</td>\n",
       "      <td>4</td>\n",
       "      <td>226</td>\n",
       "      <td>227</td>\n",
       "      <td>7.666667</td>\n",
       "      <td>525.970149</td>\n",
       "    </tr>\n",
       "  </tbody>\n",
       "</table>\n",
       "</div>"
      ],
      "text/plain": [
       "   CellID   Label    Immune    Stroma     Tumor  Area  Eccentricity  Solidity  \\\n",
       "0       1  Stroma  0.084226  0.913542  0.002232   236      0.957049  0.810997   \n",
       "1       2  Stroma  0.279038  0.719192  0.001770   201      0.638133  0.922018   \n",
       "\n",
       "     Extent  EulerNumber  Perimeter  MajorAxisLength  MinorAxisLength  \\\n",
       "0  0.428312            1      78.70        34.044535         9.870373   \n",
       "1  0.744444            1      53.45        18.572493        14.299456   \n",
       "\n",
       "   Orientation  Neighbor_1  Neighbor_2  Neighbor_3  Neighbor_4  Neighbor_5  \\\n",
       "0   -29.378275           2         570         598         643         654   \n",
       "1   -46.545586           1           3           4         226         227   \n",
       "\n",
       "   X_position  Y_position  \n",
       "0   13.957627  467.186441  \n",
       "1    7.666667  525.970149  "
      ]
     },
     "execution_count": 5,
     "metadata": {},
     "output_type": "execute_result"
    }
   ],
   "source": [
    "lung1.head(2)"
   ]
  },
  {
   "cell_type": "code",
   "execution_count": 6,
   "metadata": {},
   "outputs": [
    {
     "data": {
      "text/plain": [
       "Immune    0.467463\n",
       "Tumor     0.275829\n",
       "Stroma    0.256709\n",
       "Name: Label, dtype: float64"
      ]
     },
     "execution_count": 6,
     "metadata": {},
     "output_type": "execute_result"
    }
   ],
   "source": [
    "lung1['Label'].value_counts() / lung1.shape[0]"
   ]
  },
  {
   "cell_type": "code",
   "execution_count": 7,
   "metadata": {},
   "outputs": [
    {
     "data": {
      "text/plain": [
       "Immune    0.441133\n",
       "Tumor     0.322040\n",
       "Stroma    0.236828\n",
       "Name: Label, dtype: float64"
      ]
     },
     "execution_count": 7,
     "metadata": {},
     "output_type": "execute_result"
    }
   ],
   "source": [
    "lung2['Label'].value_counts() / lung2.shape[0]"
   ]
  },
  {
   "cell_type": "code",
   "execution_count": 8,
   "metadata": {},
   "outputs": [
    {
     "data": {
      "text/plain": [
       "Immune    0.554010\n",
       "Stroma    0.252282\n",
       "Tumor     0.193709\n",
       "Name: Label, dtype: float64"
      ]
     },
     "execution_count": 8,
     "metadata": {},
     "output_type": "execute_result"
    }
   ],
   "source": [
    "lung3['Label'].value_counts() / lung3.shape[0]"
   ]
  },
  {
   "cell_type": "code",
   "execution_count": 9,
   "metadata": {},
   "outputs": [],
   "source": [
    "lung1['sample'] = [1]*lung1.shape[0]\n",
    "lung2['sample'] = [2]*lung2.shape[0]\n",
    "lung3['sample'] = [3]*lung3.shape[0]\n",
    "lung = pd.concat([lung1, lung2, lung3])"
   ]
  },
  {
   "cell_type": "code",
   "execution_count": 10,
   "metadata": {},
   "outputs": [
    {
     "name": "stdout",
     "output_type": "stream",
     "text": [
      "Area filtered 15343 cells\n"
     ]
    }
   ],
   "source": [
    "before_cell_count = lung.shape[0]\n",
    "# Remove Area < 50 and >10,000\n",
    "lung = lung[(lung['Area'] >= 50) & (lung['Area'] <= 10000)]\n",
    "print('Area filtered {} cells'.format(before_cell_count - lung.shape[0]))"
   ]
  },
  {
   "cell_type": "code",
   "execution_count": 11,
   "metadata": {},
   "outputs": [],
   "source": [
    "save_obj(lung, './lung.pkl')\n",
    "lung.to_csv('lung.csv', index=False)"
   ]
  },
  {
   "cell_type": "markdown",
   "metadata": {},
   "source": [
    "### Check label quality"
   ]
  },
  {
   "cell_type": "code",
   "execution_count": 25,
   "metadata": {},
   "outputs": [
    {
     "data": {
      "image/png": "[encoded data removed]",
      "text/plain": [
       "<Figure size 360x360 with 1 Axes>"
      ]
     },
     "metadata": {},
     "output_type": "display_data"
    }
   ],
   "source": [
    "plt.figure(figsize=(5,5))\n",
    "plt.hist(lung[lung['Label'] == 'Stroma']['Stroma'].values, bins=100)\n",
    "sns.despine()\n",
    "plt.xlabel('Stroma marker probability')\n",
    "plt.ylabel('Count')\n",
    "plt.show()"
   ]
  },
  {
   "cell_type": "code",
   "execution_count": 28,
   "metadata": {},
   "outputs": [
    {
     "data": {
      "image/png": "[encoded data removed]",
      "text/plain": [
       "<Figure size 360x360 with 1 Axes>"
      ]
     },
     "metadata": {},
     "output_type": "display_data"
    }
   ],
   "source": [
    "plt.figure(figsize=(5,5))\n",
    "plt.hist(lung[lung['Label'] == 'Immune']['Immune'].values, bins=100)\n",
    "sns.despine()\n",
    "plt.xlabel('Immune marker probability')\n",
    "plt.ylabel('Count')\n",
    "plt.show()"
   ]
  },
  {
   "cell_type": "code",
   "execution_count": 29,
   "metadata": {},
   "outputs": [
    {
     "data": {
      "image/png": "[encoded data removed]",
      "text/plain": [
       "<Figure size 360x360 with 1 Axes>"
      ]
     },
     "metadata": {},
     "output_type": "display_data"
    }
   ],
   "source": [
    "plt.figure(figsize=(5,5))\n",
    "plt.hist(lung[lung['Label'] == 'Tumor']['Tumor'].values, bins=100)\n",
    "sns.despine()\n",
    "plt.xlabel('Tumor marker probability')\n",
    "plt.ylabel('Count')\n",
    "plt.show()"
   ]
  },
  {
   "cell_type": "markdown",
   "metadata": {},
   "source": [
    "### Quality filter\n",
    "\n",
    "    Filter out cells with label marker probability less than 50%"
   ]
  },
  {
   "cell_type": "code",
   "execution_count": 30,
   "metadata": {},
   "outputs": [
    {
     "data": {
      "text/html": [
       "<div>\n",
       "<style scoped>\n",
       "    .dataframe tbody tr th:only-of-type {\n",
       "        vertical-align: middle;\n",
       "    }\n",
       "\n",
       "    .dataframe tbody tr th {\n",
       "        vertical-align: top;\n",
       "    }\n",
       "\n",
       "    .dataframe thead th {\n",
       "        text-align: right;\n",
       "    }\n",
       "</style>\n",
       "<table border=\"1\" class=\"dataframe\">\n",
       "  <thead>\n",
       "    <tr style=\"text-align: right;\">\n",
       "      <th></th>\n",
       "      <th>CellID</th>\n",
       "      <th>Label</th>\n",
       "      <th>Immune</th>\n",
       "      <th>Stroma</th>\n",
       "      <th>Tumor</th>\n",
       "      <th>Area</th>\n",
       "      <th>Eccentricity</th>\n",
       "      <th>Solidity</th>\n",
       "      <th>Extent</th>\n",
       "      <th>EulerNumber</th>\n",
       "      <th>Perimeter</th>\n",
       "      <th>MajorAxisLength</th>\n",
       "      <th>MinorAxisLength</th>\n",
       "      <th>Orientation</th>\n",
       "      <th>Neighbor_1</th>\n",
       "      <th>Neighbor_2</th>\n",
       "      <th>Neighbor_3</th>\n",
       "      <th>Neighbor_4</th>\n",
       "      <th>Neighbor_5</th>\n",
       "      <th>X_position</th>\n",
       "      <th>Y_position</th>\n",
       "      <th>sample</th>\n",
       "    </tr>\n",
       "  </thead>\n",
       "  <tbody>\n",
       "    <tr>\n",
       "      <th>0</th>\n",
       "      <td>1</td>\n",
       "      <td>Stroma</td>\n",
       "      <td>0.084226</td>\n",
       "      <td>0.913542</td>\n",
       "      <td>0.002232</td>\n",
       "      <td>236</td>\n",
       "      <td>0.957049</td>\n",
       "      <td>0.810997</td>\n",
       "      <td>0.428312</td>\n",
       "      <td>1</td>\n",
       "      <td>78.70</td>\n",
       "      <td>34.044535</td>\n",
       "      <td>9.870373</td>\n",
       "      <td>-29.378275</td>\n",
       "      <td>2</td>\n",
       "      <td>570</td>\n",
       "      <td>598</td>\n",
       "      <td>643</td>\n",
       "      <td>654</td>\n",
       "      <td>13.957627</td>\n",
       "      <td>467.186441</td>\n",
       "      <td>1</td>\n",
       "    </tr>\n",
       "    <tr>\n",
       "      <th>1</th>\n",
       "      <td>2</td>\n",
       "      <td>Stroma</td>\n",
       "      <td>0.279038</td>\n",
       "      <td>0.719192</td>\n",
       "      <td>0.001770</td>\n",
       "      <td>201</td>\n",
       "      <td>0.638133</td>\n",
       "      <td>0.922018</td>\n",
       "      <td>0.744444</td>\n",
       "      <td>1</td>\n",
       "      <td>53.45</td>\n",
       "      <td>18.572493</td>\n",
       "      <td>14.299456</td>\n",
       "      <td>-46.545586</td>\n",
       "      <td>1</td>\n",
       "      <td>3</td>\n",
       "      <td>4</td>\n",
       "      <td>226</td>\n",
       "      <td>227</td>\n",
       "      <td>7.666667</td>\n",
       "      <td>525.970149</td>\n",
       "      <td>1</td>\n",
       "    </tr>\n",
       "  </tbody>\n",
       "</table>\n",
       "</div>"
      ],
      "text/plain": [
       "   CellID   Label    Immune    Stroma     Tumor  Area  Eccentricity  Solidity  \\\n",
       "0       1  Stroma  0.084226  0.913542  0.002232   236      0.957049  0.810997   \n",
       "1       2  Stroma  0.279038  0.719192  0.001770   201      0.638133  0.922018   \n",
       "\n",
       "     Extent  EulerNumber  Perimeter  MajorAxisLength  MinorAxisLength  \\\n",
       "0  0.428312            1      78.70        34.044535         9.870373   \n",
       "1  0.744444            1      53.45        18.572493        14.299456   \n",
       "\n",
       "   Orientation  Neighbor_1  Neighbor_2  Neighbor_3  Neighbor_4  Neighbor_5  \\\n",
       "0   -29.378275           2         570         598         643         654   \n",
       "1   -46.545586           1           3           4         226         227   \n",
       "\n",
       "   X_position  Y_position  sample  \n",
       "0   13.957627  467.186441       1  \n",
       "1    7.666667  525.970149       1  "
      ]
     },
     "execution_count": 30,
     "metadata": {},
     "output_type": "execute_result"
    }
   ],
   "source": [
    "prob_thre = 0.5\n",
    "lung[lung]"
   ]
  },
  {
   "cell_type": "code",
   "execution_count": 32,
   "metadata": {},
   "outputs": [
    {
     "data": {
      "text/plain": [
       "0.9665352965544304"
      ]
     },
     "execution_count": 32,
     "metadata": {},
     "output_type": "execute_result"
    }
   ],
   "source": [
    "lung['Tumor'].max()"
   ]
  },
  {
   "cell_type": "code",
   "execution_count": 33,
   "metadata": {},
   "outputs": [
    {
     "name": "stdout",
     "output_type": "stream",
     "text": [
      "0.9152491406865371\n",
      "0.8818152222158043\n",
      "0.9665352965544304\n"
     ]
    }
   ],
   "source": [
    "print(lung1['Tumor'].max())\n",
    "print(lung2['Tumor'].max())\n",
    "print(lung3['Tumor'].max())"
   ]
  },
  {
   "cell_type": "code",
   "execution_count": 35,
   "metadata": {},
   "outputs": [
    {
     "data": {
      "text/plain": [
       " 1    276886\n",
       " 0       160\n",
       "-1         5\n",
       "-3         1\n",
       "Name: EulerNumber, dtype: int64"
      ]
     },
     "execution_count": 35,
     "metadata": {},
     "output_type": "execute_result"
    }
   ],
   "source": [
    "lung['EulerNumber'].value_counts()"
   ]
  },
  {
   "cell_type": "code",
   "execution_count": null,
   "metadata": {},
   "outputs": [],
   "source": []
  },
  {
   "cell_type": "code",
   "execution_count": null,
   "metadata": {},
   "outputs": [],
   "source": []
  },
  {
   "cell_type": "code",
   "execution_count": null,
   "metadata": {},
   "outputs": [],
   "source": []
  },
  {
   "cell_type": "code",
   "execution_count": null,
   "metadata": {},
   "outputs": [],
   "source": []
  },
  {
   "cell_type": "code",
   "execution_count": null,
   "metadata": {},
   "outputs": [],
   "source": []
  },
  {
   "cell_type": "code",
   "execution_count": null,
   "metadata": {},
   "outputs": [],
   "source": []
  },
  {
   "cell_type": "code",
   "execution_count": null,
   "metadata": {},
   "outputs": [],
   "source": []
  }
 ],
 "metadata": {
  "kernelspec": {
   "display_name": "anaconda",
   "language": "python",
   "name": "anaconda"
  },
  "language_info": {
   "codemirror_mode": {
    "name": "ipython",
    "version": 3
   },
   "file_extension": ".py",
   "mimetype": "text/x-python",
   "name": "python",
   "nbconvert_exporter": "python",
   "pygments_lexer": "ipython3",
   "version": "3.6.5"
  }
 },
 "nbformat": 4,
 "nbformat_minor": 2
}
