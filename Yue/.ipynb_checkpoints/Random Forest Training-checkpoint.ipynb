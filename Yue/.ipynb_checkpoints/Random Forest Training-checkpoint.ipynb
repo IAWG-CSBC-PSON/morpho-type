{
 "cells": [
  {
   "cell_type": "code",
   "execution_count": 1,
   "metadata": {},
   "outputs": [],
   "source": [
    "import pandas as pd\n",
    "pd.options.display.max_columns = 50\n",
    "import numpy as np\n",
    "import sys\n",
    "import os\n",
    "\n",
    "import matplotlib.pyplot as plt\n",
    "import seaborn as sns\n",
    "\n",
    "from sklearn.pipeline import Pipeline\n",
    "from sklearn.model_selection import GridSearchCV, StratifiedKFold\n",
    "from sklearn.ensemble import RandomForestRegressor, RandomForestClassifier\n",
    "from sklearn.metrics import accuracy_score\n",
    "\n",
    "from train_utils import my_GridSearchCV\n",
    "sys.path.append('/cellar/users/y8qin/Data/my_utils/')\n",
    "from file_utils import *\n",
    "import slurm_utils as slurm\n",
    "\n",
    "%load_ext autoreload\n",
    "%autoreload 2"
   ]
  },
  {
   "cell_type": "code",
   "execution_count": 2,
   "metadata": {},
   "outputs": [],
   "source": [
    "lung = load_obj('/cellar/users/y8qin/Data/image_hackathon/morpho-type/Yue/lung.pkl')\n",
    "train_lung = lung[lung['sample'].isin([1,2])]\n",
    "test_lung = lung[lung['sample'] == 3]"
   ]
  },
  {
   "cell_type": "code",
   "execution_count": 3,
   "metadata": {
    "scrolled": true
   },
   "outputs": [
    {
     "data": {
      "text/html": [
       "<div>\n",
       "<style scoped>\n",
       "    .dataframe tbody tr th:only-of-type {\n",
       "        vertical-align: middle;\n",
       "    }\n",
       "\n",
       "    .dataframe tbody tr th {\n",
       "        vertical-align: top;\n",
       "    }\n",
       "\n",
       "    .dataframe thead th {\n",
       "        text-align: right;\n",
       "    }\n",
       "</style>\n",
       "<table border=\"1\" class=\"dataframe\">\n",
       "  <thead>\n",
       "    <tr style=\"text-align: right;\">\n",
       "      <th></th>\n",
       "      <th>CellID</th>\n",
       "      <th>Label</th>\n",
       "      <th>Immune</th>\n",
       "      <th>Stroma</th>\n",
       "      <th>Tumor</th>\n",
       "      <th>Area</th>\n",
       "      <th>Eccentricity</th>\n",
       "      <th>Solidity</th>\n",
       "      <th>Extent</th>\n",
       "      <th>EulerNumber</th>\n",
       "      <th>Perimeter</th>\n",
       "      <th>MajorAxisLength</th>\n",
       "      <th>MinorAxisLength</th>\n",
       "      <th>Orientation</th>\n",
       "      <th>Neighbor_1</th>\n",
       "      <th>Neighbor_2</th>\n",
       "      <th>Neighbor_3</th>\n",
       "      <th>Neighbor_4</th>\n",
       "      <th>Neighbor_5</th>\n",
       "      <th>X_position</th>\n",
       "      <th>Y_position</th>\n",
       "      <th>sample</th>\n",
       "    </tr>\n",
       "  </thead>\n",
       "  <tbody>\n",
       "    <tr>\n",
       "      <th>0</th>\n",
       "      <td>1</td>\n",
       "      <td>Stroma</td>\n",
       "      <td>0.084226</td>\n",
       "      <td>0.913542</td>\n",
       "      <td>0.002232</td>\n",
       "      <td>236</td>\n",
       "      <td>0.957049</td>\n",
       "      <td>0.810997</td>\n",
       "      <td>0.428312</td>\n",
       "      <td>1</td>\n",
       "      <td>78.70</td>\n",
       "      <td>34.044535</td>\n",
       "      <td>9.870373</td>\n",
       "      <td>-29.378275</td>\n",
       "      <td>2</td>\n",
       "      <td>570</td>\n",
       "      <td>598</td>\n",
       "      <td>643</td>\n",
       "      <td>654</td>\n",
       "      <td>13.957627</td>\n",
       "      <td>467.186441</td>\n",
       "      <td>1</td>\n",
       "    </tr>\n",
       "    <tr>\n",
       "      <th>1</th>\n",
       "      <td>2</td>\n",
       "      <td>Stroma</td>\n",
       "      <td>0.279038</td>\n",
       "      <td>0.719192</td>\n",
       "      <td>0.001770</td>\n",
       "      <td>201</td>\n",
       "      <td>0.638133</td>\n",
       "      <td>0.922018</td>\n",
       "      <td>0.744444</td>\n",
       "      <td>1</td>\n",
       "      <td>53.45</td>\n",
       "      <td>18.572493</td>\n",
       "      <td>14.299456</td>\n",
       "      <td>-46.545586</td>\n",
       "      <td>1</td>\n",
       "      <td>3</td>\n",
       "      <td>4</td>\n",
       "      <td>226</td>\n",
       "      <td>227</td>\n",
       "      <td>7.666667</td>\n",
       "      <td>525.970149</td>\n",
       "      <td>1</td>\n",
       "    </tr>\n",
       "  </tbody>\n",
       "</table>\n",
       "</div>"
      ],
      "text/plain": [
       "   CellID   Label    Immune    Stroma     Tumor  Area  Eccentricity  Solidity  \\\n",
       "0       1  Stroma  0.084226  0.913542  0.002232   236      0.957049  0.810997   \n",
       "1       2  Stroma  0.279038  0.719192  0.001770   201      0.638133  0.922018   \n",
       "\n",
       "     Extent  EulerNumber  Perimeter  MajorAxisLength  MinorAxisLength  \\\n",
       "0  0.428312            1      78.70        34.044535         9.870373   \n",
       "1  0.744444            1      53.45        18.572493        14.299456   \n",
       "\n",
       "   Orientation  Neighbor_1  Neighbor_2  Neighbor_3  Neighbor_4  Neighbor_5  \\\n",
       "0   -29.378275           2         570         598         643         654   \n",
       "1   -46.545586           1           3           4         226         227   \n",
       "\n",
       "   X_position  Y_position  sample  \n",
       "0   13.957627  467.186441       1  \n",
       "1    7.666667  525.970149       1  "
      ]
     },
     "execution_count": 3,
     "metadata": {},
     "output_type": "execute_result"
    }
   ],
   "source": [
    "train_lung.head(2)"
   ]
  },
  {
   "cell_type": "code",
   "execution_count": 4,
   "metadata": {},
   "outputs": [],
   "source": [
    "morpho_feat = ['Area', \n",
    "               'Eccentricity', \n",
    "               'Solidity', \n",
    "               'Extent',  \n",
    "               'Perimeter', \n",
    "               'MajorAxisLength', \n",
    "               'MinorAxisLength']"
   ]
  },
  {
   "cell_type": "code",
   "execution_count": 5,
   "metadata": {
    "scrolled": true
   },
   "outputs": [],
   "source": [
    "train_X = train_lung[morpho_feat].values\n",
    "test_X = test_lung[morpho_feat].values\n",
    "\n",
    "label_map = {'Stroma':0, 'Immune':1, 'Tumor':2}\n",
    "train_y = train_lung['Label'].map(label_map).values\n",
    "test_y = test_lung['Label'].map(label_map).values"
   ]
  },
  {
   "cell_type": "code",
   "execution_count": 6,
   "metadata": {
    "scrolled": true
   },
   "outputs": [],
   "source": [
    "# Random Forest\n",
    "rf_kwargs = {\n",
    "    'n_estimators': 200,\n",
    "    'class_weight': 'balanced', \n",
    "    'n_jobs':8}\n",
    "rf_tuning = {\n",
    "    'min_samples_split': [.05, .1, .2],\n",
    "    'max_features': ['sqrt', .5, .75]}\n",
    "rf = Pipeline(\n",
    "    [('classification', my_GridSearchCV(\n",
    "         RandomForestClassifier,\n",
    "         rf_kwargs, rf_tuning, scoring='f1_macro'))])"
   ]
  },
  {
   "cell_type": "code",
   "execution_count": null,
   "metadata": {
    "scrolled": true
   },
   "outputs": [],
   "source": [
    "rf.fit(train_X[:200], train_y[:200])"
   ]
  },
  {
   "cell_type": "code",
   "execution_count": null,
   "metadata": {},
   "outputs": [],
   "source": [
    "pred = rf.predict(test_X)\n",
    "pred_proba = rf.predict_proba(test_X)"
   ]
  },
  {
   "cell_type": "code",
   "execution_count": null,
   "metadata": {
    "scrolled": false
   },
   "outputs": [],
   "source": [
    "accuracy_score(test_y, pred)"
   ]
  },
  {
   "cell_type": "markdown",
   "metadata": {},
   "source": [
    "### Train Random Forest on all data"
   ]
  },
  {
   "cell_type": "code",
   "execution_count": 42,
   "metadata": {},
   "outputs": [],
   "source": [
    "with open('train_rf_classifier.param', 'w') as paramf:\n",
    "    for idx in [1,2,3]:\n",
    "        paramf.write('--testSample {}\\n'.format(idx))"
   ]
  },
  {
   "cell_type": "code",
   "execution_count": 44,
   "metadata": {},
   "outputs": [],
   "source": [
    "workdir = '/cellar/users/y8qin/Data/image_hackathon/morpho-type/Yue'\n",
    "slurm.array_script('{}/train_rf_classifier.sh'.format(workdir), \n",
    "                   '{}/train_rf_classifier.param'.format(workdir), \n",
    "                   '{}/train_rf_classifier.py'.format(workdir), \n",
    "                   3, mem=20, ncpu=8, gpu=True)"
   ]
  },
  {
   "cell_type": "code",
   "execution_count": null,
   "metadata": {},
   "outputs": [],
   "source": []
  },
  {
   "cell_type": "code",
   "execution_count": null,
   "metadata": {},
   "outputs": [],
   "source": []
  },
  {
   "cell_type": "code",
   "execution_count": null,
   "metadata": {},
   "outputs": [],
   "source": []
  },
  {
   "cell_type": "code",
   "execution_count": null,
   "metadata": {},
   "outputs": [],
   "source": []
  },
  {
   "cell_type": "code",
   "execution_count": null,
   "metadata": {},
   "outputs": [],
   "source": []
  }
 ],
 "metadata": {
  "kernelspec": {
   "display_name": "anaconda",
   "language": "python",
   "name": "anaconda"
  },
  "language_info": {
   "codemirror_mode": {
    "name": "ipython",
    "version": 3
   },
   "file_extension": ".py",
   "mimetype": "text/x-python",
   "name": "python",
   "nbconvert_exporter": "python",
   "pygments_lexer": "ipython3",
   "version": "3.6.5"
  }
 },
 "nbformat": 4,
 "nbformat_minor": 2
}
